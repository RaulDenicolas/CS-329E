{
  "cells": [
    {
      "cell_type": "code",
      "id": "ykYshnPrOxIUeTAsH4jK2REL",
      "metadata": {
        "tags": [],
        "id": "ykYshnPrOxIUeTAsH4jK2REL"
      },
      "source": [
        "from google.cloud import storage\n",
        "from google.cloud import bigquery\n",
        "\n",
        "project_id = \"automated-style-411721\"\n",
        "bucket_name = \"arcs329e_data\"\n",
        "folder_name = \"initial_load\"\n",
        "dataset_name = \"retails_raw\"\n",
        "region = \"US\"\n",
        "\n",
        "storage_client = storage.Client()\n",
        "bq_client = bigquery.Client()"
      ],
      "execution_count": null,
      "outputs": []
    },
    {
      "cell_type": "code",
      "source": [
        "def create_load_table(file_name, table_name, schema, delimiter=\",\"):\n",
        "\n",
        "  uri = \"gs://{}/{}/{}\".format(bucket_name, folder_name, file_name)\n",
        "  table_id = \"{}.{}.{}\".format(project_id, dataset_name, table_name)\n",
        "\n",
        "  table = bigquery.Table(table_id, schema=schema)\n",
        "  table = bq_client.create_table(table, exists_ok=True)\n",
        "  print(\"Created table {}\".format(table.table_id))\n",
        "\n",
        "  del schema[-1]\n",
        "\n",
        "  job_config = bigquery.LoadJobConfig(\n",
        "        schema=schema,\n",
        "        skip_leading_rows=1,\n",
        "        source_format=bigquery.SourceFormat.CSV,\n",
        "        write_disposition=\"WRITE_TRUNCATE\",\n",
        "        field_delimiter=delimiter,\n",
        "        autodetect=True,\n",
        "        allow_jagged_rows=True,\n",
        "        allow_quoted_newlines=True,\n",
        "        ignore_unknown_values=True,\n",
        "        preserve_ascii_control_characters=True,\n",
        "        use_avro_logical_types=True\n",
        "  )\n",
        "\n",
        "  load_job = bq_client.load_table_from_uri(uri, table_id, job_config=job_config)\n",
        "  load_job.result()\n",
        "\n",
        "  destination_table = bq_client.get_table(table_id)\n",
        "  print(\"Loaded {} rows.\".format(destination_table.num_rows))\n"
      ],
      "metadata": {
        "id": "BZlWJGJR5ZSe"
      },
      "id": "BZlWJGJR5ZSe",
      "execution_count": null,
      "outputs": []
    },
    {
      "cell_type": "markdown",
      "source": [
        "##mrds Table"
      ],
      "metadata": {
        "id": "gpi8jfw95sIg"
      },
      "id": "gpi8jfw95sIg"
    },
    {
      "cell_type": "code",
      "source": [
        "file_name = 'mrds.csv'\n",
        "table_name = 'mrds'\n",
        "\n",
        "schema = [\n",
        "    bigquery.SchemaField(\"dep_id\", \"STRING\", mode=\"NULLABLE\"),\n",
        "    bigquery.SchemaField(\"mrds_id\", \"STRING\", mode=\"NULLABLE\"),\n",
        "    bigquery.SchemaField(\"mas_id\", \"STRING\", mode=\"NULLABLE\"),\n",
        "    bigquery.SchemaField(\"site_name\", \"STRING\", mode=\"NULLABLE\"),\n",
        "    bigquery.SchemaField(\"latitude\", \"STRING\", mode=\"NULLABLE\"),\n",
        "    bigquery.SchemaField(\"longitude\", \"STRING\", mode=\"NULLABLE\"),\n",
        "    bigquery.SchemaField(\"country\", \"STRING\", mode=\"NULLABLE\"),\n",
        "    bigquery.SchemaField(\"state\", \"STRING\", mode=\"NULLABLE\"),\n",
        "    bigquery.SchemaField(\"county\", \"STRING\", mode=\"NULLABLE\"),\n",
        "    bigquery.SchemaField(\"com_type\", \"STRING\", mode=\"NULLABLE\"),\n",
        "    bigquery.SchemaField(\"commod1\", \"STRING\", mode=\"NULLABLE\"),\n",
        "    bigquery.SchemaField(\"commod2\", \"STRING\", mode=\"NULLABLE\"),\n",
        "    bigquery.SchemaField(\"commod3\", \"STRING\", mode=\"NULLABLE\"),\n",
        "    bigquery.SchemaField(\"load_time\", \"TIMESTAMP\", mode=\"NULLABLE\", default_value_expression=\"CURRENT_TIMESTAMP\")\n",
        "]\n",
        "\n",
        "create_load_table(file_name, table_name, schema)"
      ],
      "metadata": {
        "colab": {
          "base_uri": "https://localhost:8080/"
        },
        "id": "Buu2M_EpGT0J",
        "executionInfo": {
          "status": "ok",
          "timestamp": 1706842671231,
          "user_tz": 360,
          "elapsed": 21006,
          "user": {
            "displayName": "",
            "userId": ""
          }
        },
        "outputId": "43ed2e7c-b791-4fd1-dbda-39ec11ef190b"
      },
      "id": "Buu2M_EpGT0J",
      "execution_count": null,
      "outputs": [
        {
          "output_type": "stream",
          "name": "stdout",
          "text": [
            "Created table mrds\n",
            "Loaded 304632 rows.\n"
          ]
        }
      ]
    },
    {
      "cell_type": "markdown",
      "source": [
        "## mineral_ores_around_the_world Table"
      ],
      "metadata": {
        "id": "JbdQ8EaB_nAM"
      },
      "id": "JbdQ8EaB_nAM"
    },
    {
      "cell_type": "code",
      "source": [
        "file_name = 'mineral_ores_around_the_world.csv'\n",
        "table_name = 'mineral'\n",
        "\n",
        "schema = [\n",
        "  bigquery.SchemaField(\"site_name\", \"STRING\", mode=\"NULLABLE\"),\n",
        "  bigquery.SchemaField(\"latitude\", \"STRING\", mode=\"NULLABLE\"),\n",
        "  bigquery.SchemaField(\"longitude\", \"STRING\", mode=\"NULLABLE\"),\n",
        "  bigquery.SchemaField(\"state\", \"STRING\", mode=\"NULLABLE\"),\n",
        "  bigquery.SchemaField(\"country\", \"STRING\", mode=\"NULLABLE\"),\n",
        "  bigquery.SchemaField(\"county\", \"STRING\", mode=\"NULLABLE\"),\n",
        "  bigquery.SchemaField(\"com_type\", \"STRING\", mode=\"NULLABLE\"),\n",
        "  bigquery.SchemaField(\"commod1\", \"STRING\", mode=\"NULLABLE\"),\n",
        "  bigquery.SchemaField(\"commod2\", \"STRING\", mode=\"NULLABLE\"),\n",
        "  bigquery.SchemaField(\"commod3\", \"STRING\", mode=\"NULLABLE\"),\n",
        "  bigquery.SchemaField(\"load_time\", \"TIMESTAMP\", mode=\"NULLABLE\", default_value_expression=\"CURRENT_TIMESTAMP\"),\n",
        "]\n",
        "\n",
        "# schema = [\n",
        "#   bigquery.SchemaField(\"site_name\", \"STRING\", mode=\"NULLABLE\"),\n",
        "#   bigquery.SchemaField(\"latitude\", \"STRING\", mode=\"NULLABLE\"),\n",
        "#   bigquery.SchemaField(\"longitude\", \"STRING\", mode=\"NULLABLE\"),\n",
        "#   bigquery.SchemaField(\"state\", \"STRING\", mode=\"NULLABLE\"),\n",
        "#   bigquery.SchemaField(\"country\", \"STRING\", mode=\"NULLABLE\"),\n",
        "#   bigquery.SchemaField(\"county\", \"STRING\", mode=\"NULLABLE\"),\n",
        "#   bigquery.SchemaField(\"com_type\", \"STRING\", mode=\"NULLABLE\"),\n",
        "#   bigquery.SchemaField(\"commod1\", \"STRING\", mode=\"NULLABLE\"),\n",
        "#   bigquery.SchemaField(\"commod2\", \"STRING\", mode=\"NULLABLE\"),\n",
        "#   bigquery.SchemaField(\"commod3\", \"STRING\", mode=\"NULLABLE\"),\n",
        "#   bigquery.SchemaField(\"load_time\", \"TIMESTAMP\", mode=\"NULLABLE\", default_value_expression=\"CURRENT_TIMESTAMP\"),\n",
        "# ]\n",
        "\n",
        "create_load_table(file_name, table_name, schema)"
      ],
      "metadata": {
        "colab": {
          "base_uri": "https://localhost:8080/"
        },
        "id": "cvot1KIFf7uZ",
        "executionInfo": {
          "status": "ok",
          "timestamp": 1706846404887,
          "user_tz": 360,
          "elapsed": 10657,
          "user": {
            "displayName": "",
            "userId": ""
          }
        },
        "outputId": "c18752f6-0ce8-4dab-f73f-17733992e7c7"
      },
      "id": "cvot1KIFf7uZ",
      "execution_count": null,
      "outputs": [
        {
          "output_type": "stream",
          "name": "stdout",
          "text": [
            "Created table mineral\n",
            "Loaded 304621 rows.\n"
          ]
        }
      ]
    },
    {
      "cell_type": "markdown",
      "source": [
        "##sales_data_set Table\n"
      ],
      "metadata": {
        "id": "ndfXUlAe0Dh5"
      },
      "id": "ndfXUlAe0Dh5"
    },
    {
      "cell_type": "code",
      "source": [
        "file_name = 'sales_data_set.csv'\n",
        "table_name = 'sales_data_set'\n",
        "\n",
        "schema = [\n",
        "  bigquery.SchemaField(\"Store\", \"STRING\", mode=\"NULLABLE\"),\n",
        "  bigquery.SchemaField(\"Dept\", \"STRING\", mode=\"NULLABLE\"),\n",
        "  bigquery.SchemaField(\"Weekly_Sales\", \"STRING\", mode=\"NULLABLE\"),\n",
        "  bigquery.SchemaField(\"IsHoliday\", \"STRING\", mode=\"NULLABLE\"),\n",
        "  bigquery.SchemaField(\"Date\", \"TIMESTAMP\", mode=\"REQUIRED\", default_value_expression=\"CURRENT_TIMESTAMP\"),\n",
        "]\n",
        "\n",
        "create_load_table(file_name, table_name, schema)"
      ],
      "metadata": {
        "id": "-1UkWJbW0P4d",
        "colab": {
          "base_uri": "https://localhost:8080/"
        },
        "executionInfo": {
          "status": "ok",
          "timestamp": 1706845678123,
          "user_tz": 360,
          "elapsed": 4588,
          "user": {
            "displayName": "",
            "userId": ""
          }
        },
        "outputId": "16f465aa-5975-4f3e-f5b4-06fdd22274e3"
      },
      "id": "-1UkWJbW0P4d",
      "execution_count": null,
      "outputs": [
        {
          "output_type": "stream",
          "name": "stdout",
          "text": [
            "Created table sales_data_set\n",
            "Loaded 421570 rows.\n"
          ]
        }
      ]
    },
    {
      "cell_type": "markdown",
      "source": [
        "##train"
      ],
      "metadata": {
        "id": "Yg1tgl4FRlf9"
      },
      "id": "Yg1tgl4FRlf9"
    },
    {
      "cell_type": "code",
      "source": [
        "file_name = 'train.csv'\n",
        "table_name = 'train'\n",
        "\n",
        "schema = [\n",
        "  bigquery.SchemaField(\"store_nbr\", \"STRING\", mode=\"NULLABLE\"),\n",
        "  bigquery.SchemaField(\"family\", \"STRING\", mode=\"NULLABLE\"),\n",
        "  #bigquery.SchemaField(\"onpromotion\", \"INTEGER\", mode=\"NULLABLE\"),\n",
        "  bigquery.SchemaField(\"sales\", \"STRING\", mode=\"NULLABLE\"),\n",
        "  bigquery.SchemaField(\"date\", \"TIMESTAMP\", mode=\"NULLABLE\", default_value_expression=\"CURRENT_TIMESTAMP\"),\n",
        "]\n",
        "\n",
        "create_load_table(file_name, table_name, schema)"
      ],
      "metadata": {
        "colab": {
          "base_uri": "https://localhost:8080/"
        },
        "id": "Bk0hWIFQRmp5",
        "executionInfo": {
          "status": "ok",
          "timestamp": 1706846557465,
          "user_tz": 360,
          "elapsed": 12551,
          "user": {
            "displayName": "",
            "userId": ""
          }
        },
        "outputId": "197f542c-6263-4216-e5a5-9c25fb50c3d9"
      },
      "id": "Bk0hWIFQRmp5",
      "execution_count": null,
      "outputs": [
        {
          "output_type": "stream",
          "name": "stdout",
          "text": [
            "Created table train\n",
            "Loaded 3000888 rows.\n"
          ]
        }
      ]
    },
    {
      "cell_type": "markdown",
      "source": [
        "##supplier Table"
      ],
      "metadata": {
        "id": "jzjwSiQRSWKn"
      },
      "id": "jzjwSiQRSWKn"
    },
    {
      "cell_type": "code",
      "source": [
        "file_name = 'supplier.csv'\n",
        "table_name = 'supplier'\n",
        "\n",
        "schema = [\n",
        "  bigquery.SchemaField(\"supply_key\", \"STRING\", mode=\"NULLABLE\"),\n",
        "  bigquery.SchemaField(\"supplier_nation_key\", \"STRING\", mode=\"NULLABLE\"),\n",
        "  bigquery.SchemaField(\"supplier_comment\", \"STRING\", mode=\"NULLABLE\"),\n",
        "  bigquery.SchemaField(\"supplier_name\", \"STRING\", mode=\"NULLABLE\"),\n",
        "  bigquery.SchemaField(\"supplier_address\", \"STRING\", mode=\"NULLABLE\"),\n",
        "  bigquery.SchemaField(\"supplier_phone\", \"STRING\", mode=\"NULLABLE\"),\n",
        "  bigquery.SchemaField(\"supplier_account_balance\", \"STRING\", mode=\"NULLABLE\"),\n",
        "  bigquery.SchemaField(\"Date\", \"TIMESTAMP\", mode=\"NULLABLE\", default_value_expression=\"CURRENT_TIMESTAMP\"),\n",
        "]\n",
        "\n",
        "create_load_table(file_name, table_name, schema)"
      ],
      "metadata": {
        "colab": {
          "base_uri": "https://localhost:8080/"
        },
        "id": "WNch62idRoFK",
        "executionInfo": {
          "status": "ok",
          "timestamp": 1706845708868,
          "user_tz": 360,
          "elapsed": 3417,
          "user": {
            "displayName": "",
            "userId": ""
          }
        },
        "outputId": "084b5bbf-5702-4368-8a13-e04ef99c2e35"
      },
      "id": "WNch62idRoFK",
      "execution_count": null,
      "outputs": [
        {
          "output_type": "stream",
          "name": "stdout",
          "text": [
            "Created table supplier\n",
            "Loaded 10000 rows.\n"
          ]
        }
      ]
    },
    {
      "cell_type": "markdown",
      "source": [
        "##parts Table"
      ],
      "metadata": {
        "id": "981Qu2mtSSWf"
      },
      "id": "981Qu2mtSSWf"
    },
    {
      "cell_type": "code",
      "source": [
        "file_name = 'supplier.csv'\n",
        "table_name = 'supplier'\n",
        "\n",
        "schema = [\n",
        "  bigquery.SchemaField(\"part_key\", \"STRING\", mode=\"NULLABLE\"),\n",
        "  bigquery.SchemaField(\"part_type\", \"STRING\", mode=\"NULLABLE\"),\n",
        "  bigquery.SchemaField(\"part_size\", \"STRING\", mode=\"NULLABLE\"),\n",
        "  bigquery.SchemaField(\"part_brand\", \"STRING\", mode=\"NULLABLE\"),\n",
        "  bigquery.SchemaField(\"part_name\", \"STRING\", mode=\"NULLABLE\"),\n",
        "  bigquery.SchemaField(\"part_container\", \"STRING\", mode=\"NULLABLE\"),\n",
        "  bigquery.SchemaField(\"part_manufacturer\", \"STRING\", mode=\"NULLABLE\"),\n",
        "  bigquery.SchemaField(\"part_retail_price\", \"STRING\", mode=\"NULLABLE\"),\n",
        "  bigquery.SchemaField(\"part_comment\", \"STRING\", mode=\"NULLABLE\"),\n",
        "  bigquery.SchemaField(\"Date\", \"TIMESTAMP\", mode=\"NULLABLE\", default_value_expression=\"CURRENT_TIMESTAMP\"),\n",
        "]\n",
        "\n",
        "create_load_table(file_name, table_name, schema)"
      ],
      "metadata": {
        "id": "Sw3DXnqYSdSi",
        "colab": {
          "base_uri": "https://localhost:8080/"
        },
        "executionInfo": {
          "status": "ok",
          "timestamp": 1706845732515,
          "user_tz": 360,
          "elapsed": 3775,
          "user": {
            "displayName": "",
            "userId": ""
          }
        },
        "outputId": "f5c47f7b-38b2-458c-966f-3b902cc4036e"
      },
      "id": "Sw3DXnqYSdSi",
      "execution_count": null,
      "outputs": [
        {
          "output_type": "stream",
          "name": "stdout",
          "text": [
            "Created table supplier\n",
            "Loaded 10000 rows.\n"
          ]
        }
      ]
    },
    {
      "cell_type": "markdown",
      "source": [
        "##partsupp Table"
      ],
      "metadata": {
        "id": "toYMeH3DSOZm"
      },
      "id": "toYMeH3DSOZm"
    },
    {
      "cell_type": "code",
      "source": [
        "file_name = 'supplier.csv'\n",
        "table_name = 'supplier'\n",
        "\n",
        "schema = [\n",
        "  bigquery.SchemaField(\"part_supply_part_key\", \"STRING\", mode=\"NULLABLE\"),\n",
        "  bigquery.SchemaField(\"part_supply_supply_key\", \"STRING\", mode=\"NULLABLE\"),\n",
        "  bigquery.SchemaField(\"part_supply_cost\", \"STRING\", mode=\"NULLABLE\"),\n",
        "  bigquery.SchemaField(\"part_supply_available_quantity\", \"STRING\", mode=\"NULLABLE\"),\n",
        "  bigquery.SchemaField(\"part_supply_comment\", \"STRING\", mode=\"NULLABLE\"),\n",
        "  bigquery.SchemaField(\"Date\", \"TIMESTAMP\", mode=\"NULLABLE\", default_value_expression=\"CURRENT_TIMESTAMP\"),\n",
        "]\n",
        "\n",
        "create_load_table(file_name, table_name, schema)"
      ],
      "metadata": {
        "id": "ZIGuP7ZYSRwn",
        "colab": {
          "base_uri": "https://localhost:8080/"
        },
        "executionInfo": {
          "status": "ok",
          "timestamp": 1706846596374,
          "user_tz": 360,
          "elapsed": 3190,
          "user": {
            "displayName": "",
            "userId": ""
          }
        },
        "outputId": "44c755dc-1221-4e1f-f635-0d3a2e3de078"
      },
      "id": "ZIGuP7ZYSRwn",
      "execution_count": null,
      "outputs": [
        {
          "output_type": "stream",
          "name": "stdout",
          "text": [
            "Created table supplier\n",
            "Loaded 10000 rows.\n"
          ]
        }
      ]
    },
    {
      "cell_type": "markdown",
      "source": [
        "Verify Loads"
      ],
      "metadata": {
        "id": "2LQMLrp6_UJG"
      },
      "id": "2LQMLrp6_UJG"
    },
    {
      "cell_type": "code",
      "source": [
        "sql = \"select table_name from {}.INFORMATION_SCHEMA.TABLES order by table_name\".format(dataset_name)\n",
        "query = (sql)\n",
        "\n",
        "query_job = bq_client.query(\n",
        "    query,\n",
        "    location=region,\n",
        ")\n",
        "\n",
        "results = query_job.result()\n",
        "\n",
        "for table in query_job:\n",
        "    table_name = table.values()[0]\n",
        "    print(\"table:\", table_name)"
      ],
      "metadata": {
        "colab": {
          "base_uri": "https://localhost:8080/"
        },
        "id": "dztGq2OR_V6z",
        "executionInfo": {
          "status": "ok",
          "timestamp": 1706846678145,
          "user_tz": 360,
          "elapsed": 1019,
          "user": {
            "displayName": "",
            "userId": ""
          }
        },
        "outputId": "9d5c321f-d07b-40ca-a26c-656c30da7e3d"
      },
      "id": "dztGq2OR_V6z",
      "execution_count": null,
      "outputs": [
        {
          "output_type": "stream",
          "name": "stdout",
          "text": [
            "table: mineral\n",
            "table: mineral_ores_around_the_world\n",
            "table: mrds\n",
            "table: parts\n",
            "table: partsupp\n",
            "table: sales_data_set\n",
            "table: store_data_set\n",
            "table: supplier\n",
            "table: train\n"
          ]
        }
      ]
    }
  ],
  "metadata": {
    "kernelspec": {
      "display_name": "Python 3",
      "language": "python",
      "name": "python3"
    },
    "language_info": {
      "codemirror_mode": {
        "name": "ipython",
        "version": 3
      },
      "file_extension": ".py",
      "mimetype": "text/x-python",
      "name": "python",
      "nbconvert_exporter": "python",
      "pygments_lexer": "ipython3",
      "version": "3.10.10"
    },
    "colab": {
      "provenance": []
    }
  },
  "nbformat": 4,
  "nbformat_minor": 5
}
